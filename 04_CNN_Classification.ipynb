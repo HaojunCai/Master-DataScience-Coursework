{
 "cells": [
  {
   "cell_type": "markdown",
   "metadata": {},
   "source": [
    "# Image Interpretation – Assignment 5\n",
    "\n",
    "This assignment on __Deep Convolutional Neural Networks__ covers the deep networks labs from 7th and 14th of November, and is graded by a maximum of 9 points.\n",
    "\n",
    "In order to submit the results, send a ZIP file with your implemented code (functions prefixed with ii and any “helper” functions you wrote) to <riccardo.delutio@geod.baug.ethz.ch> with subject [Image Interpretation 2019 Assignment 5] no later than on the 20st of November, 2019.\n",
    "\n",
    "In addition to the code, include a report explaining the structure of the code and the python functions used and all technical decisions as well. This includes the reasons for choosing particular functions as well as a short justification of their parameter setting. For the more complicated tasks, the choice of the underlying\n",
    "data structures and algorithms should be explained too. We encourage you to add also diagrams, illustrations, and figures into the report when appropriate, but it is not necessary to copy the related theory from the lecture slides. The report should not contain any code snippets (but the code should contain comments if appropriate). \n",
    "\n",
    "__Team work is not allowed__. Everybody implements his/her own code and writes his/her own report. Discussing issues with others is fine, sharing code and/or report with others is __not__. If you use any code fragments found on the Internet, make sure you reference them properly."
   ]
  },
  {
   "cell_type": "markdown",
   "metadata": {},
   "source": [
    "# Exercise 1, 2pts\n",
    "\n",
    "In this first exercise we are going to get an idea on how simple neural networks\n",
    "behave for simple classification tasks. We’ll make use of two different javascript\n",
    "based neural network to train and modify an existing model. Let’s start with a very\n",
    "simple one, a simple neural network with only fully connected layers and without\n",
    "convolutions. Open a web browser on the page http://playground.tensorflow.org/ and start playing with the interface. For each dataset set the noise level to 30. Click play on the top-left to start training. To assess the quality of the network look at the values train and test loss at the top right. Tip: Sometimes it’s easier\n",
    "to see the result if you discretise the graph.\n",
    "\n",
    "1. For each dataset (the four boxes under DATA) explore the best features that\n",
    "make the network converge faster.\n",
    "2. For the spiral dataset and default network how does the batch size (bottom\n",
    "left slider) influence the results? How does it relate with the learning rate\n",
    "(central top)?\n",
    "3. Try all the different activation layers (top slider), what are their differences?\n",
    "Why?\n",
    "4. How does the number of hidden layers and the number of neuron per\n",
    "\tlayer affect the results in terms of quality (test loss) and convergence\n",
    "\tspeed?\n",
    "5. Compare the performance (convergence rate and accuracy) of a network for regression and classification? Explain the differences.\n",
    "6. Play with different types and rates of regularization (top slider) and explain the changes you observe and the influence on the results.\n",
    "\n",
    "Explain each question and motivate it with a screenshot of the experiment.\n",
    "\n",
    "__The following part is optional, but fun!__ Open this page https://cs.stanford.edu/people/karpathy/convnetjs/demo/mnist.html and try to tweak all the pa-\n",
    "rameters you can to obtain the best network (the highest validation accuracy).\n",
    "Scroll down the page and peek inside the network and have a look at different\n",
    "activation and weight as the network gets trained (click pause to make it freeze).\n",
    "Check how the prediction works on the test set in the last part of the page."
   ]
  },
  {
   "cell_type": "markdown",
   "metadata": {},
   "source": [
    "# Exercise 2, 3pts\n",
    "\n",
    "In this exercise you have to train a new Convolutional Neural Network from scratch for the classification of images.\n",
    "1. For this we will use the [Keras](https://keras.io/) library. You can download it on your `conda` environment with `conda install keras-gpu`.\n",
    "2. The aim is to achieve 99% accuracy (on validation/test set) the MNIST dataset http://yann.lecun.com/exdb/mnist/. We have provided a basic Keras implementation of a CNN.\n",
    "3. You are allowed to do whatever you want (except copy pasting) with the\n",
    "network as long as it is explained in your report. Feel free to change the architecture\n",
    "of the network as well as parameters (e.g. learning rate, kernel sizes, ...). You\n",
    "can try to guess parameters manually of you want, just make sure that it\n",
    "performs better than 99% on the validation set.\n",
    "4. Sketch the final network architecture in your report.\n",
    "5. Make sure you train the network on the GPU, otherwise it will be too slow.\n",
    "6. Explain the plots that appear.\n"
   ]
  },
  {
   "cell_type": "code",
   "execution_count": 3,
   "metadata": {
    "scrolled": false
   },
   "outputs": [
    {
     "name": "stdout",
     "output_type": "stream",
     "text": [
      "x_train shape: (60000, 28, 28, 1)\n",
      "60000 train samples\n",
      "10000 test samples\n"
     ]
    },
    {
     "data": {
      "image/png": "[encoded data removed]",
      "text/plain": [
       "<Figure size 720x720 with 9 Axes>"
      ]
     },
     "metadata": {
      "needs_background": "light"
     },
     "output_type": "display_data"
    }
   ],
   "source": [
    "from __future__ import print_function\n",
    "import keras\n",
    "from keras.datasets import mnist\n",
    "from keras.models import Sequential\n",
    "from keras.layers import *\n",
    "from keras.optimizers import *\n",
    "from keras import backend as K\n",
    "import numpy as np\n",
    "import matplotlib.pyplot as plt\n",
    "%matplotlib inline\n",
    "\n",
    "batch_size = 100\n",
    "num_classes = 10\n",
    "epochs = 20\n",
    "\n",
    "# input image dimensions\n",
    "img_rows, img_cols = 28, 28\n",
    "\n",
    "# the data, split between train and test sets\n",
    "(x_train, y_train), (x_test, y_test) = mnist.load_data()\n",
    "\n",
    "if K.image_data_format() == 'channels_first':\n",
    "    x_train = x_train.reshape(x_train.shape[0], 1, img_rows, img_cols)\n",
    "    x_test = x_test.reshape(x_test.shape[0], 1, img_rows, img_cols)\n",
    "    input_shape = (1, img_rows, img_cols)\n",
    "else:\n",
    "    x_train = x_train.reshape(x_train.shape[0], img_rows, img_cols, 1)\n",
    "    x_test = x_test.reshape(x_test.shape[0], img_rows, img_cols, 1)\n",
    "    input_shape = (img_rows, img_cols, 1)\n",
    "\n",
    "x_train = x_train.astype('float32')\n",
    "x_test = x_test.astype('float32')\n",
    "x_train /= 255\n",
    "x_test /= 255\n",
    "print('x_train shape:', x_train.shape)\n",
    "print(x_train.shape[0], 'train samples')\n",
    "print(x_test.shape[0], 'test samples')\n",
    "\n",
    "# convert class vectors to binary class matrices\n",
    "y_train = keras.utils.to_categorical(y_train, num_classes)\n",
    "y_test = keras.utils.to_categorical(y_test, num_classes)\n",
    "\n",
    "# plot the first 9 training images in MNIST\n",
    "fig, ax = plt.subplots(3, 3, figsize = (10, 10))\n",
    "fig.suptitle('First 9 images in MNIST')\n",
    "fig.tight_layout(pad = 0.3, rect = [0, 0, 0.9, 0.9])\n",
    "for x, y in [(i, j) for i in range(3) for j in range(3)]:\n",
    "    ax[x, y].axis('off')\n",
    "    ax[x, y].imshow(x_train[x + y * 3,:,:,:].reshape((28,28)), cmap = 'gray')\n",
    "    ax[x, y].set_title(np.where(y_train[x + y * 3])[0][0])\n",
    "plt.show()"
   ]
  },
  {
   "cell_type": "code",
   "execution_count": 8,
   "metadata": {
    "scrolled": false
   },
   "outputs": [
    {
     "name": "stdout",
     "output_type": "stream",
     "text": [
      "Train on 60000 samples, validate on 10000 samples\n",
      "Epoch 1/20\n",
      "60000/60000 [==============================] - 31s 512us/step - loss: 0.2081 - acc: 0.9361 - val_loss: 0.0870 - val_acc: 0.9724\n",
      "Epoch 2/20\n",
      "60000/60000 [==============================] - 30s 494us/step - loss: 0.0769 - acc: 0.9765 - val_loss: 0.0544 - val_acc: 0.9824\n",
      "Epoch 3/20\n",
      "60000/60000 [==============================] - 30s 492us/step - loss: 0.0598 - acc: 0.9815 - val_loss: 0.0611 - val_acc: 0.9804\n",
      "Epoch 4/20\n",
      "60000/60000 [==============================] - 29s 489us/step - loss: 0.0496 - acc: 0.9846 - val_loss: 0.0398 - val_acc: 0.9857\n",
      "Epoch 5/20\n",
      "60000/60000 [==============================] - 29s 486us/step - loss: 0.0430 - acc: 0.9867 - val_loss: 0.0431 - val_acc: 0.9867\n",
      "Epoch 6/20\n",
      "60000/60000 [==============================] - 29s 486us/step - loss: 0.0376 - acc: 0.9887 - val_loss: 0.0337 - val_acc: 0.9880\n",
      "Epoch 7/20\n",
      "60000/60000 [==============================] - 30s 493us/step - loss: 0.0334 - acc: 0.9898 - val_loss: 0.0349 - val_acc: 0.9878\n",
      "Epoch 8/20\n",
      "60000/60000 [==============================] - 30s 496us/step - loss: 0.0319 - acc: 0.9903 - val_loss: 0.0303 - val_acc: 0.9896\n",
      "Epoch 9/20\n",
      "60000/60000 [==============================] - 29s 491us/step - loss: 0.0298 - acc: 0.9904 - val_loss: 0.0295 - val_acc: 0.9895\n",
      "Epoch 10/20\n",
      "60000/60000 [==============================] - 30s 495us/step - loss: 0.0278 - acc: 0.9910 - val_loss: 0.0284 - val_acc: 0.9902\n",
      "Epoch 11/20\n",
      "60000/60000 [==============================] - 30s 499us/step - loss: 0.0259 - acc: 0.9916 - val_loss: 0.0277 - val_acc: 0.9899\n",
      "Epoch 12/20\n",
      "60000/60000 [==============================] - 30s 505us/step - loss: 0.0243 - acc: 0.9924 - val_loss: 0.0261 - val_acc: 0.9909\n",
      "Epoch 13/20\n",
      "60000/60000 [==============================] - 30s 499us/step - loss: 0.0220 - acc: 0.9932 - val_loss: 0.0283 - val_acc: 0.9900\n",
      "Epoch 14/20\n",
      "60000/60000 [==============================] - 30s 501us/step - loss: 0.0215 - acc: 0.9930 - val_loss: 0.0258 - val_acc: 0.9906\n",
      "Epoch 15/20\n",
      "60000/60000 [==============================] - 30s 507us/step - loss: 0.0201 - acc: 0.9930 - val_loss: 0.0247 - val_acc: 0.9920\n",
      "Epoch 16/20\n",
      "60000/60000 [==============================] - 30s 496us/step - loss: 0.0187 - acc: 0.9940 - val_loss: 0.0243 - val_acc: 0.9920\n",
      "Epoch 17/20\n",
      "60000/60000 [==============================] - 30s 495us/step - loss: 0.0181 - acc: 0.9943 - val_loss: 0.0251 - val_acc: 0.9917\n",
      "Epoch 18/20\n",
      "60000/60000 [==============================] - 30s 499us/step - loss: 0.0170 - acc: 0.9945 - val_loss: 0.0255 - val_acc: 0.9918\n",
      "Epoch 19/20\n",
      "60000/60000 [==============================] - 30s 496us/step - loss: 0.0158 - acc: 0.9951 - val_loss: 0.0239 - val_acc: 0.9921\n",
      "Epoch 20/20\n",
      "60000/60000 [==============================] - 30s 500us/step - loss: 0.0156 - acc: 0.9952 - val_loss: 0.0249 - val_acc: 0.9916\n",
      "Test loss: 0.02485903983855387\n",
      "Test accuracy: 0.9916\n"
     ]
    }
   ],
   "source": [
    "# The model\n",
    "model = Sequential()\n",
    "\n",
    "model.add(Conv2D(64, kernel_size=(3, 3)))\n",
    "model.add(BatchNormalization())\n",
    "model.add(Activation('relu'))\n",
    "model.add(Dropout(1-0.8))\n",
    "model.add(MaxPooling2D(pool_size=(2,2)))\n",
    "\n",
    "model.add(Conv2D(128, kernel_size=(3, 3)))\n",
    "model.add(BatchNormalization())\n",
    "model.add(Activation('relu'))\n",
    "model.add(Dropout(1-0.8))\n",
    "\n",
    "model.add(Conv2D(256, kernel_size=(3, 3)))\n",
    "model.add(BatchNormalization())\n",
    "model.add(Activation('relu'))\n",
    "model.add(Dropout(1-0.8))\n",
    "\n",
    "model.add(Flatten())\n",
    "model.add(Dropout(1-0.75))\n",
    "model.add(Dense(num_classes, activation='softmax'))\n",
    "\n",
    "model.compile(loss=keras.losses.categorical_crossentropy,optimizer=SGD(lr=0.001, momentum=0.9, decay=0.0),metrics=['accuracy'])\n",
    "\n",
    "# Training\n",
    "history = model.fit(x_train, y_train,\n",
    "          batch_size=batch_size,\n",
    "          epochs=epochs,\n",
    "          verbose=1,\n",
    "          validation_data=(x_test, y_test))\n",
    "\n",
    "# Evaluation\n",
    "score = model.evaluate(x_test, y_test, verbose=0)\n",
    "print('Test loss:', score[0])\n",
    "print('Test accuracy:', score[1])"
   ]
  },
  {
   "cell_type": "code",
   "execution_count": 9,
   "metadata": {},
   "outputs": [
    {
     "name": "stdout",
     "output_type": "stream",
     "text": [
      "_________________________________________________________________\n",
      "Layer (type)                 Output Shape              Param #   \n",
      "=================================================================\n",
      "conv2d_13 (Conv2D)           (None, 26, 26, 64)        640       \n",
      "_________________________________________________________________\n",
      "batch_normalization_12 (Batc (None, 26, 26, 64)        256       \n",
      "_________________________________________________________________\n",
      "activation_13 (Activation)   (None, 26, 26, 64)        0         \n",
      "_________________________________________________________________\n",
      "dropout_17 (Dropout)         (None, 26, 26, 64)        0         \n",
      "_________________________________________________________________\n",
      "max_pooling2d_6 (MaxPooling2 (None, 13, 13, 64)        0         \n",
      "_________________________________________________________________\n",
      "conv2d_14 (Conv2D)           (None, 11, 11, 128)       73856     \n",
      "_________________________________________________________________\n",
      "batch_normalization_13 (Batc (None, 11, 11, 128)       512       \n",
      "_________________________________________________________________\n",
      "activation_14 (Activation)   (None, 11, 11, 128)       0         \n",
      "_________________________________________________________________\n",
      "dropout_18 (Dropout)         (None, 11, 11, 128)       0         \n",
      "_________________________________________________________________\n",
      "conv2d_15 (Conv2D)           (None, 9, 9, 256)         295168    \n",
      "_________________________________________________________________\n",
      "batch_normalization_14 (Batc (None, 9, 9, 256)         1024      \n",
      "_________________________________________________________________\n",
      "activation_15 (Activation)   (None, 9, 9, 256)         0         \n",
      "_________________________________________________________________\n",
      "dropout_19 (Dropout)         (None, 9, 9, 256)         0         \n",
      "_________________________________________________________________\n",
      "flatten_5 (Flatten)          (None, 20736)             0         \n",
      "_________________________________________________________________\n",
      "dropout_20 (Dropout)         (None, 20736)             0         \n",
      "_________________________________________________________________\n",
      "dense_5 (Dense)              (None, 10)                207370    \n",
      "=================================================================\n",
      "Total params: 578,826\n",
      "Trainable params: 577,930\n",
      "Non-trainable params: 896\n",
      "_________________________________________________________________\n"
     ]
    }
   ],
   "source": [
    "model.summary()"
   ]
  },
  {
   "cell_type": "code",
   "execution_count": 10,
   "metadata": {
    "scrolled": false
   },
   "outputs": [
    {
     "data": {
      "image/png": "[encoded data removed]",
      "text/plain": [
       "<Figure size 1152x360 with 2 Axes>"
      ]
     },
     "metadata": {
      "needs_background": "light"
     },
     "output_type": "display_data"
    }
   ],
   "source": [
    "# Plot training & validation accuracy\n",
    "figsize = (16,5)\n",
    "plt.figure(figsize=figsize)\n",
    "plt.subplot(1, 2, 1)\n",
    "plt.plot(history.history['acc'])\n",
    "plt.plot(history.history['val_acc'])\n",
    "plt.title('Model accuracy')\n",
    "plt.ylabel('Accuracy')\n",
    "plt.xlabel('Epoch')\n",
    "plt.legend(['Train', 'Test'], loc='upper left')\n",
    "\n",
    "# Plot training & validation loss values\n",
    "plt.subplot(1, 2, 2)\n",
    "plt.plot(history.history['loss'])\n",
    "plt.plot(history.history['val_loss'])\n",
    "plt.title('Model loss')\n",
    "plt.ylabel('Loss')\n",
    "plt.xlabel('Epoch')\n",
    "plt.legend(['Train', 'Test'], loc='upper left')\n",
    "plt.show()"
   ]
  },
  {
   "cell_type": "markdown",
   "metadata": {},
   "source": [
    "# Exercise 3, 4pts\n",
    "\n",
    "There is a competition [https://www.kaggle.com/c/dogs-vs-cats-imint-2019](https://www.kaggle.com/t/7ce01cf04f01448186f23a95768fc596). You should\n",
    "have at least 75% accuracy on the public leaderboard to get basic points on this\n",
    "exercise. The first 3 places will have extra points (5 for the first place, and 4 for\n",
    "the second and the third place). Use all your knowledge and experience to attack\n",
    "the problem."
   ]
  },
  {
   "cell_type": "code",
   "execution_count": 3,
   "metadata": {},
   "outputs": [],
   "source": [
    "import os\n",
    "import numpy as np\n",
    "import pandas as pd\n",
    "import matplotlib.pyplot as plt\n",
    "import glob\n",
    "import shutil\n",
    "import tensorflow\n",
    "from tensorflow import keras\n",
    "from keras import regularizers\n",
    "from keras.optimizers import RMSprop, SGD, Adadelta, Adam\n",
    "from keras.preprocessing.image import ImageDataGenerator\n",
    "from keras.models import *\n",
    "from keras.layers import *\n",
    "from keras.applications import *\n",
    "from keras.preprocessing.image import *\n",
    "from sklearn.model_selection import train_test_split"
   ]
  },
  {
   "cell_type": "code",
   "execution_count": 4,
   "metadata": {},
   "outputs": [],
   "source": [
    "# Run on GPU\n",
    "config = tensorflow.ConfigProto(device_count = {'GPU': 1 , 'CPU': 4}) \n",
    "sess = tensorflow.Session(config=config) \n",
    "keras.backend.set_session(sess)"
   ]
  },
  {
   "cell_type": "markdown",
   "metadata": {},
   "source": [
    "## Load data\n",
    "Sort datafile in a way to feed the image generator later."
   ]
  },
  {
   "cell_type": "code",
   "execution_count": 5,
   "metadata": {},
   "outputs": [],
   "source": [
    "train_dir = './cats_vs_dogs'\n",
    "\n",
    "# Create new files\n",
    "# os.makedirs(train_dir+'dogs')\n",
    "# os.makedirs(train_dir+'cats')"
   ]
  },
  {
   "cell_type": "code",
   "execution_count": 6,
   "metadata": {},
   "outputs": [],
   "source": [
    "# train_dog_dir = glob.glob(train_dir+'/dog.*.jpg')\n",
    "# train_cat_dir = glob.glob(train_dir+'/cat.*.jpg')\n",
    "\n",
    "# # Move into two files\n",
    "# for img in train_dog_dir:\n",
    "#     shutil.move(img, train_dir+'/dogs')\n",
    "# for img in train_cat_dir:\n",
    "#     shutil.move(img, train_dir+'/cats')"
   ]
  },
  {
   "cell_type": "code",
   "execution_count": 7,
   "metadata": {
    "scrolled": false
   },
   "outputs": [
    {
     "name": "stdout",
     "output_type": "stream",
     "text": [
      "Total training images: 18752\n",
      "Total training dog images 9376\n",
      "Total training cat images 9376\n"
     ]
    }
   ],
   "source": [
    "# Output data size\n",
    "TRAIN_CAT_SIZE = len(os.listdir(train_dir+'/cats'))\n",
    "TRAIN_DOG_SIZE = len(os.listdir(train_dir+'/dogs'))\n",
    "TRAIN_ALL_SIZE = TRAIN_CAT_SIZE + TRAIN_DOG_SIZE\n",
    "\n",
    "print('Total training images:', TRAIN_ALL_SIZE)\n",
    "print('Total training dog images', TRAIN_DOG_SIZE)\n",
    "print('Total training cat images', TRAIN_CAT_SIZE )"
   ]
  },
  {
   "cell_type": "markdown",
   "metadata": {},
   "source": [
    "## Process data\n",
    "- Resize all images to have the same input size for the training network.\n",
    "- Normalize the pixel value to get the range `[0,1]`.\n",
    "- Split all training data again into training and validation data to tune the network and hyperparameters. Here, 30% is chosen as validation."
   ]
  },
  {
   "cell_type": "code",
   "execution_count": 8,
   "metadata": {},
   "outputs": [],
   "source": [
    "NUM_CLASS = 1 # set as 1 and use sigmiod for final output layer\n",
    "TRAIN_FRACTION = 0.7\n",
    "BATCH_SIZE = 64\n",
    "IMG_HEIGHT = 150\n",
    "IMG_WIDTH = 150\n",
    "IMG_CHANNELS = 3"
   ]
  },
  {
   "cell_type": "code",
   "execution_count": 9,
   "metadata": {},
   "outputs": [],
   "source": [
    "train_image_generator = ImageDataGenerator(rescale=1./255, validation_split=1-TRAIN_FRACTION)\n",
    "# train_image_generator = ImageDataGenerator(rescale=1./255, \n",
    "#                                              validation_split=1-TRAIN_FRACTION, \n",
    "#                                              horizontal_flip=True, \n",
    "#                                              width_shift_range=0.15,\n",
    "#                                              height_shift_range=0.15,\n",
    "#                                              rotation_range=15,\n",
    "#                                              zoom_range=0.3)"
   ]
  },
  {
   "cell_type": "code",
   "execution_count": 10,
   "metadata": {},
   "outputs": [
    {
     "name": "stdout",
     "output_type": "stream",
     "text": [
      "Found 13128 images belonging to 2 classes.\n"
     ]
    }
   ],
   "source": [
    "train_data_generator = train_image_generator.flow_from_directory(directory=train_dir,\n",
    "                                                                 target_size=(IMG_HEIGHT, IMG_WIDTH),\n",
    "                                                                 class_mode='binary',\n",
    "                                                                 batch_size=BATCH_SIZE,\n",
    "                                                                 shuffle=True,\n",
    "                                                                 subset='training')"
   ]
  },
  {
   "cell_type": "code",
   "execution_count": 11,
   "metadata": {
    "scrolled": true
   },
   "outputs": [
    {
     "name": "stdout",
     "output_type": "stream",
     "text": [
      "Found 5624 images belonging to 2 classes.\n"
     ]
    }
   ],
   "source": [
    "val_data_generator = train_image_generator.flow_from_directory(directory=train_dir,\n",
    "                                                               target_size=(IMG_HEIGHT, IMG_WIDTH),\n",
    "                                                               class_mode='binary',\n",
    "                                                               batch_size=BATCH_SIZE,\n",
    "                                                               shuffle=True,\n",
    "                                                               subset='validation')"
   ]
  },
  {
   "cell_type": "markdown",
   "metadata": {},
   "source": [
    "## Construct the model\n",
    "Pre-constructed model is used here to increase the performance."
   ]
  },
  {
   "cell_type": "code",
   "execution_count": 12,
   "metadata": {},
   "outputs": [
    {
     "name": "stdout",
     "output_type": "stream",
     "text": [
      "WARNING:tensorflow:From C:\\Users\\caihao\\.conda\\envs\\jupyterLocal\\lib\\site-packages\\keras\\backend\\tensorflow_backend.py:74: The name tf.get_default_graph is deprecated. Please use tf.compat.v1.get_default_graph instead.\n",
      "\n",
      "WARNING:tensorflow:From C:\\Users\\caihao\\.conda\\envs\\jupyterLocal\\lib\\site-packages\\keras\\backend\\tensorflow_backend.py:517: The name tf.placeholder is deprecated. Please use tf.compat.v1.placeholder instead.\n",
      "\n",
      "WARNING:tensorflow:From C:\\Users\\caihao\\.conda\\envs\\jupyterLocal\\lib\\site-packages\\keras\\backend\\tensorflow_backend.py:4138: The name tf.random_uniform is deprecated. Please use tf.random.uniform instead.\n",
      "\n",
      "WARNING:tensorflow:From C:\\Users\\caihao\\.conda\\envs\\jupyterLocal\\lib\\site-packages\\keras\\backend\\tensorflow_backend.py:174: The name tf.get_default_session is deprecated. Please use tf.compat.v1.get_default_session instead.\n",
      "\n",
      "WARNING:tensorflow:From C:\\Users\\caihao\\.conda\\envs\\jupyterLocal\\lib\\site-packages\\keras\\backend\\tensorflow_backend.py:181: The name tf.ConfigProto is deprecated. Please use tf.compat.v1.ConfigProto instead.\n",
      "\n",
      "WARNING:tensorflow:From C:\\Users\\caihao\\.conda\\envs\\jupyterLocal\\lib\\site-packages\\keras\\backend\\tensorflow_backend.py:1834: The name tf.nn.fused_batch_norm is deprecated. Please use tf.compat.v1.nn.fused_batch_norm instead.\n",
      "\n",
      "WARNING:tensorflow:From C:\\Users\\caihao\\.conda\\envs\\jupyterLocal\\lib\\site-packages\\keras\\backend\\tensorflow_backend.py:3976: The name tf.nn.max_pool is deprecated. Please use tf.nn.max_pool2d instead.\n",
      "\n",
      "WARNING:tensorflow:From C:\\Users\\caihao\\.conda\\envs\\jupyterLocal\\lib\\site-packages\\keras\\backend\\tensorflow_backend.py:3980: The name tf.nn.avg_pool is deprecated. Please use tf.nn.avg_pool2d instead.\n",
      "\n"
     ]
    }
   ],
   "source": [
    "base_model = InceptionV3(weights='imagenet', include_top=False, input_shape=(IMG_HEIGHT, IMG_WIDTH, IMG_CHANNELS))\n",
    "# base_model = Xception(weights='imagenet', include_top=False, input_shape=(IMG_HEIGHT, IMG_WIDTH, IMG_CHANNELS))\n",
    "# base_model = VGG16(weights='imagenet', include_top=False, input_shape=(IMG_HEIGHT, IMG_WIDTH, IMG_CHANNELS))\n",
    "\n",
    "for layer in base_model.layers:\n",
    "    layer.trainable = False"
   ]
  },
  {
   "cell_type": "code",
   "execution_count": 13,
   "metadata": {
    "scrolled": true
   },
   "outputs": [
    {
     "name": "stdout",
     "output_type": "stream",
     "text": [
      "WARNING:tensorflow:From C:\\Users\\caihao\\.conda\\envs\\jupyterLocal\\lib\\site-packages\\keras\\backend\\tensorflow_backend.py:3445: calling dropout (from tensorflow.python.ops.nn_ops) with keep_prob is deprecated and will be removed in a future version.\n",
      "Instructions for updating:\n",
      "Please use `rate` instead of `keep_prob`. Rate should be set to `rate = 1 - keep_prob`.\n"
     ]
    }
   ],
   "source": [
    "model = Sequential()\n",
    "\n",
    "model.add(base_model)\n",
    "\n",
    "model.add(Flatten())\n",
    "model.add(Dense(512))\n",
    "model.add(Activation(\"relu\"))\n",
    "model.add(Dropout(1-0.75))\n",
    "\n",
    "model.add(Dense(256, activation='relu'))\n",
    "model.add(Dropout(1-0.75))\n",
    "\n",
    "model.add(Dense(NUM_CLASS))\n",
    "model.add(Activation(\"sigmoid\"))"
   ]
  },
  {
   "cell_type": "code",
   "execution_count": 14,
   "metadata": {},
   "outputs": [
    {
     "name": "stdout",
     "output_type": "stream",
     "text": [
      "WARNING:tensorflow:From C:\\Users\\caihao\\.conda\\envs\\jupyterLocal\\lib\\site-packages\\keras\\optimizers.py:790: The name tf.train.Optimizer is deprecated. Please use tf.compat.v1.train.Optimizer instead.\n",
      "\n",
      "WARNING:tensorflow:From C:\\Users\\caihao\\.conda\\envs\\jupyterLocal\\lib\\site-packages\\tensorflow\\python\\ops\\nn_impl.py:180: add_dispatch_support.<locals>.wrapper (from tensorflow.python.ops.array_ops) is deprecated and will be removed in a future version.\n",
      "Instructions for updating:\n",
      "Use tf.where in 2.0, which has the same broadcast rule as np.where\n",
      "_________________________________________________________________\n",
      "Layer (type)                 Output Shape              Param #   \n",
      "=================================================================\n",
      "inception_v3 (Model)         (None, 3, 3, 2048)        21802784  \n",
      "_________________________________________________________________\n",
      "flatten_1 (Flatten)          (None, 18432)             0         \n",
      "_________________________________________________________________\n",
      "dense_1 (Dense)              (None, 512)               9437696   \n",
      "_________________________________________________________________\n",
      "activation_95 (Activation)   (None, 512)               0         \n",
      "_________________________________________________________________\n",
      "dropout_1 (Dropout)          (None, 512)               0         \n",
      "_________________________________________________________________\n",
      "dense_2 (Dense)              (None, 256)               131328    \n",
      "_________________________________________________________________\n",
      "dropout_2 (Dropout)          (None, 256)               0         \n",
      "_________________________________________________________________\n",
      "dense_3 (Dense)              (None, 1)                 257       \n",
      "_________________________________________________________________\n",
      "activation_96 (Activation)   (None, 1)                 0         \n",
      "=================================================================\n",
      "Total params: 31,372,065\n",
      "Trainable params: 9,569,281\n",
      "Non-trainable params: 21,802,784\n",
      "_________________________________________________________________\n"
     ]
    }
   ],
   "source": [
    "opt = SGD(lr=0.001, momentum=0.9)\n",
    "model.compile(optimizer=opt,\n",
    "              loss='binary_crossentropy',\n",
    "              metrics=['accuracy'])\n",
    "model.summary() # scratch the network table"
   ]
  },
  {
   "cell_type": "markdown",
   "metadata": {},
   "source": [
    "## Train the model"
   ]
  },
  {
   "cell_type": "code",
   "execution_count": 15,
   "metadata": {},
   "outputs": [],
   "source": [
    "EPOCHS = 8"
   ]
  },
  {
   "cell_type": "code",
   "execution_count": 16,
   "metadata": {},
   "outputs": [
    {
     "name": "stdout",
     "output_type": "stream",
     "text": [
      "Epoch 1/8\n",
      "205/205 [==============================] - 164s 802ms/step - loss: 0.4624 - acc: 0.7645 - val_loss: 0.2100 - val_acc: 0.9538\n",
      "Epoch 2/8\n",
      "205/205 [==============================] - 54s 262ms/step - loss: 0.3445 - acc: 0.8435 - val_loss: 0.2465 - val_acc: 0.9516\n",
      "Epoch 3/8\n",
      "205/205 [==============================] - 52s 255ms/step - loss: 0.3042 - acc: 0.8644 - val_loss: 0.2308 - val_acc: 0.9541\n",
      "Epoch 4/8\n",
      "205/205 [==============================] - 52s 254ms/step - loss: 0.2782 - acc: 0.8800 - val_loss: 0.2254 - val_acc: 0.9574\n",
      "Epoch 5/8\n",
      "205/205 [==============================] - 52s 254ms/step - loss: 0.2637 - acc: 0.8880 - val_loss: 0.2762 - val_acc: 0.9516\n",
      "Epoch 6/8\n",
      "205/205 [==============================] - 52s 256ms/step - loss: 0.2576 - acc: 0.8885 - val_loss: 0.2944 - val_acc: 0.9514\n",
      "Epoch 7/8\n",
      "205/205 [==============================] - 52s 253ms/step - loss: 0.2360 - acc: 0.8988 - val_loss: 0.2849 - val_acc: 0.9529\n",
      "Epoch 8/8\n",
      "205/205 [==============================] - 53s 257ms/step - loss: 0.2130 - acc: 0.9101 - val_loss: 0.3225 - val_acc: 0.9502\n"
     ]
    }
   ],
   "source": [
    "history = model.fit_generator(train_data_generator,\n",
    "                              steps_per_epoch=train_data_generator.n//train_data_generator.batch_size,\n",
    "                              epochs=EPOCHS,\n",
    "                              validation_data=val_data_generator,\n",
    "                              validation_steps=val_data_generator.n//val_data_generator.batch_size)"
   ]
  },
  {
   "cell_type": "code",
   "execution_count": 27,
   "metadata": {},
   "outputs": [
    {
     "data": {
      "image/png": "[encoded data removed]",
      "text/plain": [
       "<Figure size 1152x360 with 2 Axes>"
      ]
     },
     "metadata": {
      "needs_background": "light"
     },
     "output_type": "display_data"
    }
   ],
   "source": [
    "# Plot training & validation accuracy\n",
    "figsize = (16,5)\n",
    "plt.figure(figsize=figsize)\n",
    "plt.subplot(1, 2, 1)\n",
    "plt.plot(history.history['acc'])\n",
    "plt.plot(history.history['val_acc'])\n",
    "plt.title('Model accuracy')\n",
    "plt.ylabel('Accuracy')\n",
    "plt.xlabel('Epoch')\n",
    "plt.legend(['Train', 'Test'], loc='upper left')\n",
    "\n",
    "# Plot training & validation loss values\n",
    "plt.subplot(1, 2, 2)\n",
    "plt.plot(history.history['loss'])\n",
    "plt.plot(history.history['val_loss'])\n",
    "plt.title('Model loss')\n",
    "plt.ylabel('Loss')\n",
    "plt.xlabel('Epoch')\n",
    "plt.legend(['Train', 'Test'], loc='upper left')\n",
    "plt.show()"
   ]
  },
  {
   "cell_type": "markdown",
   "metadata": {},
   "source": [
    "## Predict results and create submission"
   ]
  },
  {
   "cell_type": "code",
   "execution_count": 41,
   "metadata": {},
   "outputs": [
    {
     "name": "stdout",
     "output_type": "stream",
     "text": [
      "Total test images: 6248\n"
     ]
    }
   ],
   "source": [
    "test_dir = './test'\n",
    "test_filenames = os.listdir(test_dir+'/test')\n",
    "TEST_SIZE = len(test_filenames)\n",
    "print('Total test images:', TEST_SIZE)"
   ]
  },
  {
   "cell_type": "code",
   "execution_count": 42,
   "metadata": {},
   "outputs": [
    {
     "name": "stdout",
     "output_type": "stream",
     "text": [
      "Found 6248 images belonging to 1 classes.\n"
     ]
    }
   ],
   "source": [
    "test_image_generator = ImageDataGenerator(rescale=1./255)\n",
    "\n",
    "test_generator = test_image_generator.flow_from_directory(directory=test_dir,\n",
    "                                                          target_size=(IMG_HEIGHT, IMG_WIDTH),\n",
    "                                                          class_mode=None,\n",
    "                                                          batch_size=1,\n",
    "                                                          shuffle=False,    \n",
    "                                                          seed=42)\n",
    "\n",
    "test_generator.reset()"
   ]
  },
  {
   "cell_type": "code",
   "execution_count": null,
   "metadata": {},
   "outputs": [],
   "source": [
    "# Predict unlabeled test data\n",
    "y_pred = model.predict_generator(test_generator, verbose=1, steps=test_generator.n//test_generator.batch_size)\n",
    "y_pred = [1 if y>0.5 else 0 for y in y_pred]"
   ]
  },
  {
   "cell_type": "code",
   "execution_count": null,
   "metadata": {},
   "outputs": [],
   "source": [
    "test_df = pd.DataFrame({'filename': test_filenames})\n",
    "\n",
    "# Extract id\n",
    "test = []\n",
    "for i in range(len(test_filenames)):\n",
    "    test.append(test_filenames[i].split('.')[0])\n",
    "test_df = pd.DataFrame({'id': test})\n",
    "\n",
    "test_df['label'] = y_pred\n",
    "\n",
    "test_df.to_csv('./submission3_incep_batch64_epoch8.csv', index=False, sep=',')"
   ]
  }
 ],
 "metadata": {
  "kernelspec": {
   "display_name": "Python 3",
   "language": "python",
   "name": "python3"
  },
  "language_info": {
   "codemirror_mode": {
    "name": "ipython",
    "version": 3
   },
   "file_extension": ".py",
   "mimetype": "text/x-python",
   "name": "python",
   "nbconvert_exporter": "python",
   "pygments_lexer": "ipython3",
   "version": "3.7.6"
  }
 },
 "nbformat": 4,
 "nbformat_minor": 2
}
